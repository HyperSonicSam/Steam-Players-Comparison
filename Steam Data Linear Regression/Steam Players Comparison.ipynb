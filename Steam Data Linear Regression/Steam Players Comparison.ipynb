{
 "cells": [
  {
   "cell_type": "markdown",
   "id": "9a096c61",
   "metadata": {},
   "source": [
    "# Country-wise Steam Players Comparison (Hours vs Points)"
   ]
  },
  {
   "cell_type": "markdown",
   "id": "401e52e5",
   "metadata": {},
   "source": [
    "# 1. Importing Libraries"
   ]
  },
  {
   "cell_type": "markdown",
   "id": "d3983e8e",
   "metadata": {},
   "source": [
    "Loading all the necessary libraries would be done. This includes `pandas`, `numpy`, `matplotlib` and `warnings`"
   ]
  },
  {
   "cell_type": "code",
   "execution_count": 1,
   "id": "4f2a6550",
   "metadata": {},
   "outputs": [],
   "source": [
    "import pandas as pd\n",
    "import numpy as np\n",
    "import matplotlib.pyplot as plt\n",
    "%matplotlib inline\n",
    "\n",
    "import warnings\n",
    "warnings.simplefilter(\"ignore\")"
   ]
  },
  {
   "cell_type": "markdown",
   "id": "ecac5a49",
   "metadata": {},
   "source": [
    "***"
   ]
  },
  {
   "cell_type": "markdown",
   "id": "1266cc7b",
   "metadata": {},
   "source": [
    "# 2. Loading the Dataset"
   ]
  },
  {
   "cell_type": "markdown",
   "id": "0460a013",
   "metadata": {},
   "source": [
    "This project focuses on taking in the `Steam Country Dataset`, that include the `Countries`, its no. of `Players`, and the `Points` or `XP` gained overall by that country till date."
   ]
  },
  {
   "cell_type": "code",
   "execution_count": 2,
   "id": "c71a82ec",
   "metadata": {},
   "outputs": [],
   "source": [
    "filepath = 'C:/Users/Samik Bhatia/Documents/Jupyter Files/csvfiles/country_data.csv'\n",
    "country_dataframe = pd.read_csv(filepath, header = 0)"
   ]
  },
  {
   "cell_type": "code",
   "execution_count": 3,
   "id": "90d678e9",
   "metadata": {},
   "outputs": [
    {
     "data": {
      "text/html": [
       "<div>\n",
       "<style scoped>\n",
       "    .dataframe tbody tr th:only-of-type {\n",
       "        vertical-align: middle;\n",
       "    }\n",
       "\n",
       "    .dataframe tbody tr th {\n",
       "        vertical-align: top;\n",
       "    }\n",
       "\n",
       "    .dataframe thead th {\n",
       "        text-align: right;\n",
       "    }\n",
       "</style>\n",
       "<table border=\"1\" class=\"dataframe\">\n",
       "  <thead>\n",
       "    <tr style=\"text-align: right;\">\n",
       "      <th></th>\n",
       "      <th>Rank</th>\n",
       "      <th>Country</th>\n",
       "      <th>Players</th>\n",
       "      <th>Points</th>\n",
       "      <th>Number</th>\n",
       "      <th>Games</th>\n",
       "      <th>Badges</th>\n",
       "      <th>XP</th>\n",
       "      <th>Hours</th>\n",
       "    </tr>\n",
       "  </thead>\n",
       "  <tbody>\n",
       "    <tr>\n",
       "      <th>0</th>\n",
       "      <td>0</td>\n",
       "      <td>Unknown</td>\n",
       "      <td>135643</td>\n",
       "      <td>86532124.75</td>\n",
       "      <td>137664177</td>\n",
       "      <td>31410891</td>\n",
       "      <td>5453964</td>\n",
       "      <td>2252121996</td>\n",
       "      <td>412471186.4</td>\n",
       "    </tr>\n",
       "    <tr>\n",
       "      <th>1</th>\n",
       "      <td>1</td>\n",
       "      <td>United States</td>\n",
       "      <td>59698</td>\n",
       "      <td>52132889.98</td>\n",
       "      <td>84410455</td>\n",
       "      <td>20379201</td>\n",
       "      <td>2569218</td>\n",
       "      <td>974895706</td>\n",
       "      <td>236137390.5</td>\n",
       "    </tr>\n",
       "    <tr>\n",
       "      <th>2</th>\n",
       "      <td>2</td>\n",
       "      <td>Russian Federation</td>\n",
       "      <td>31058</td>\n",
       "      <td>24753943.31</td>\n",
       "      <td>37279292</td>\n",
       "      <td>7247856</td>\n",
       "      <td>1657378</td>\n",
       "      <td>693424533</td>\n",
       "      <td>104656082.0</td>\n",
       "    </tr>\n",
       "    <tr>\n",
       "      <th>3</th>\n",
       "      <td>3</td>\n",
       "      <td>Germany</td>\n",
       "      <td>21750</td>\n",
       "      <td>18214362.15</td>\n",
       "      <td>28423805</td>\n",
       "      <td>6658939</td>\n",
       "      <td>1381807</td>\n",
       "      <td>590848431</td>\n",
       "      <td>86523185.4</td>\n",
       "    </tr>\n",
       "    <tr>\n",
       "      <th>4</th>\n",
       "      <td>4</td>\n",
       "      <td>United Kingdom (Great Britain)</td>\n",
       "      <td>16225</td>\n",
       "      <td>15635912.83</td>\n",
       "      <td>25101789</td>\n",
       "      <td>5780703</td>\n",
       "      <td>786975</td>\n",
       "      <td>294574732</td>\n",
       "      <td>68131144.6</td>\n",
       "    </tr>\n",
       "    <tr>\n",
       "      <th>5</th>\n",
       "      <td>5</td>\n",
       "      <td>Canada</td>\n",
       "      <td>12483</td>\n",
       "      <td>10999031.70</td>\n",
       "      <td>17436104</td>\n",
       "      <td>4012880</td>\n",
       "      <td>606502</td>\n",
       "      <td>239174494</td>\n",
       "      <td>49354715.3</td>\n",
       "    </tr>\n",
       "    <tr>\n",
       "      <th>6</th>\n",
       "      <td>6</td>\n",
       "      <td>China</td>\n",
       "      <td>15605</td>\n",
       "      <td>10847234.66</td>\n",
       "      <td>17138407</td>\n",
       "      <td>6168652</td>\n",
       "      <td>1100485</td>\n",
       "      <td>506417923</td>\n",
       "      <td>54823363.8</td>\n",
       "    </tr>\n",
       "    <tr>\n",
       "      <th>7</th>\n",
       "      <td>7</td>\n",
       "      <td>Brazil</td>\n",
       "      <td>15569</td>\n",
       "      <td>10136859.28</td>\n",
       "      <td>16173137</td>\n",
       "      <td>3918546</td>\n",
       "      <td>774781</td>\n",
       "      <td>247132541</td>\n",
       "      <td>54157619.5</td>\n",
       "    </tr>\n",
       "    <tr>\n",
       "      <th>8</th>\n",
       "      <td>8</td>\n",
       "      <td>Poland</td>\n",
       "      <td>11358</td>\n",
       "      <td>9085626.49</td>\n",
       "      <td>13802221</td>\n",
       "      <td>3123884</td>\n",
       "      <td>523117</td>\n",
       "      <td>178278957</td>\n",
       "      <td>39163756.6</td>\n",
       "    </tr>\n",
       "    <tr>\n",
       "      <th>9</th>\n",
       "      <td>9</td>\n",
       "      <td>Japan</td>\n",
       "      <td>9548</td>\n",
       "      <td>8802348.47</td>\n",
       "      <td>13143190</td>\n",
       "      <td>3328328</td>\n",
       "      <td>698257</td>\n",
       "      <td>265270862</td>\n",
       "      <td>38756414.3</td>\n",
       "    </tr>\n",
       "  </tbody>\n",
       "</table>\n",
       "</div>"
      ],
      "text/plain": [
       "   Rank                         Country  Players       Points     Number  \\\n",
       "0     0                         Unknown   135643  86532124.75  137664177   \n",
       "1     1                   United States    59698  52132889.98   84410455   \n",
       "2     2              Russian Federation    31058  24753943.31   37279292   \n",
       "3     3                         Germany    21750  18214362.15   28423805   \n",
       "4     4  United Kingdom (Great Britain)    16225  15635912.83   25101789   \n",
       "5     5                          Canada    12483  10999031.70   17436104   \n",
       "6     6                           China    15605  10847234.66   17138407   \n",
       "7     7                          Brazil    15569  10136859.28   16173137   \n",
       "8     8                          Poland    11358   9085626.49   13802221   \n",
       "9     9                           Japan     9548   8802348.47   13143190   \n",
       "\n",
       "      Games   Badges          XP        Hours  \n",
       "0  31410891  5453964  2252121996  412471186.4  \n",
       "1  20379201  2569218   974895706  236137390.5  \n",
       "2   7247856  1657378   693424533  104656082.0  \n",
       "3   6658939  1381807   590848431   86523185.4  \n",
       "4   5780703   786975   294574732   68131144.6  \n",
       "5   4012880   606502   239174494   49354715.3  \n",
       "6   6168652  1100485   506417923   54823363.8  \n",
       "7   3918546   774781   247132541   54157619.5  \n",
       "8   3123884   523117   178278957   39163756.6  \n",
       "9   3328328   698257   265270862   38756414.3  "
      ]
     },
     "execution_count": 3,
     "metadata": {},
     "output_type": "execute_result"
    }
   ],
   "source": [
    "country_dataframe.head(10)"
   ]
  },
  {
   "cell_type": "code",
   "execution_count": 4,
   "id": "4dd46ffb",
   "metadata": {
    "scrolled": true
   },
   "outputs": [
    {
     "data": {
      "text/html": [
       "<div>\n",
       "<style scoped>\n",
       "    .dataframe tbody tr th:only-of-type {\n",
       "        vertical-align: middle;\n",
       "    }\n",
       "\n",
       "    .dataframe tbody tr th {\n",
       "        vertical-align: top;\n",
       "    }\n",
       "\n",
       "    .dataframe thead th {\n",
       "        text-align: right;\n",
       "    }\n",
       "</style>\n",
       "<table border=\"1\" class=\"dataframe\">\n",
       "  <thead>\n",
       "    <tr style=\"text-align: right;\">\n",
       "      <th></th>\n",
       "      <th>Rank</th>\n",
       "      <th>Players</th>\n",
       "      <th>Points</th>\n",
       "      <th>Number</th>\n",
       "      <th>Games</th>\n",
       "      <th>Badges</th>\n",
       "      <th>XP</th>\n",
       "      <th>Hours</th>\n",
       "    </tr>\n",
       "  </thead>\n",
       "  <tbody>\n",
       "    <tr>\n",
       "      <th>count</th>\n",
       "      <td>253.000000</td>\n",
       "      <td>253.000000</td>\n",
       "      <td>2.530000e+02</td>\n",
       "      <td>2.530000e+02</td>\n",
       "      <td>2.530000e+02</td>\n",
       "      <td>2.530000e+02</td>\n",
       "      <td>2.530000e+02</td>\n",
       "      <td>2.530000e+02</td>\n",
       "    </tr>\n",
       "    <tr>\n",
       "      <th>mean</th>\n",
       "      <td>126.000000</td>\n",
       "      <td>1836.355731</td>\n",
       "      <td>1.389446e+06</td>\n",
       "      <td>2.187685e+06</td>\n",
       "      <td>5.158577e+05</td>\n",
       "      <td>9.156419e+04</td>\n",
       "      <td>3.623566e+07</td>\n",
       "      <td>6.476821e+06</td>\n",
       "    </tr>\n",
       "    <tr>\n",
       "      <th>std</th>\n",
       "      <td>73.179004</td>\n",
       "      <td>9777.432248</td>\n",
       "      <td>6.817831e+06</td>\n",
       "      <td>1.084677e+07</td>\n",
       "      <td>2.517633e+06</td>\n",
       "      <td>4.171119e+05</td>\n",
       "      <td>1.700937e+08</td>\n",
       "      <td>3.185529e+07</td>\n",
       "    </tr>\n",
       "    <tr>\n",
       "      <th>min</th>\n",
       "      <td>0.000000</td>\n",
       "      <td>1.000000</td>\n",
       "      <td>5.400000e-01</td>\n",
       "      <td>1.000000e+00</td>\n",
       "      <td>3.000000e+00</td>\n",
       "      <td>2.000000e+00</td>\n",
       "      <td>1.560000e+02</td>\n",
       "      <td>1.390000e+01</td>\n",
       "    </tr>\n",
       "    <tr>\n",
       "      <th>25%</th>\n",
       "      <td>63.000000</td>\n",
       "      <td>41.000000</td>\n",
       "      <td>2.191154e+04</td>\n",
       "      <td>3.788700e+04</td>\n",
       "      <td>7.069000e+03</td>\n",
       "      <td>1.427000e+03</td>\n",
       "      <td>4.423540e+05</td>\n",
       "      <td>1.314644e+05</td>\n",
       "    </tr>\n",
       "    <tr>\n",
       "      <th>50%</th>\n",
       "      <td>126.000000</td>\n",
       "      <td>102.000000</td>\n",
       "      <td>5.478048e+04</td>\n",
       "      <td>9.217000e+04</td>\n",
       "      <td>2.060400e+04</td>\n",
       "      <td>4.260000e+03</td>\n",
       "      <td>1.762010e+06</td>\n",
       "      <td>3.501921e+05</td>\n",
       "    </tr>\n",
       "    <tr>\n",
       "      <th>75%</th>\n",
       "      <td>189.000000</td>\n",
       "      <td>502.000000</td>\n",
       "      <td>2.908862e+05</td>\n",
       "      <td>4.827490e+05</td>\n",
       "      <td>1.040740e+05</td>\n",
       "      <td>2.629900e+04</td>\n",
       "      <td>1.021018e+07</td>\n",
       "      <td>1.667536e+06</td>\n",
       "    </tr>\n",
       "    <tr>\n",
       "      <th>max</th>\n",
       "      <td>252.000000</td>\n",
       "      <td>135643.000000</td>\n",
       "      <td>8.653212e+07</td>\n",
       "      <td>1.376642e+08</td>\n",
       "      <td>3.141089e+07</td>\n",
       "      <td>5.453964e+06</td>\n",
       "      <td>2.252122e+09</td>\n",
       "      <td>4.124712e+08</td>\n",
       "    </tr>\n",
       "  </tbody>\n",
       "</table>\n",
       "</div>"
      ],
      "text/plain": [
       "             Rank        Players        Points        Number         Games  \\\n",
       "count  253.000000     253.000000  2.530000e+02  2.530000e+02  2.530000e+02   \n",
       "mean   126.000000    1836.355731  1.389446e+06  2.187685e+06  5.158577e+05   \n",
       "std     73.179004    9777.432248  6.817831e+06  1.084677e+07  2.517633e+06   \n",
       "min      0.000000       1.000000  5.400000e-01  1.000000e+00  3.000000e+00   \n",
       "25%     63.000000      41.000000  2.191154e+04  3.788700e+04  7.069000e+03   \n",
       "50%    126.000000     102.000000  5.478048e+04  9.217000e+04  2.060400e+04   \n",
       "75%    189.000000     502.000000  2.908862e+05  4.827490e+05  1.040740e+05   \n",
       "max    252.000000  135643.000000  8.653212e+07  1.376642e+08  3.141089e+07   \n",
       "\n",
       "             Badges            XP         Hours  \n",
       "count  2.530000e+02  2.530000e+02  2.530000e+02  \n",
       "mean   9.156419e+04  3.623566e+07  6.476821e+06  \n",
       "std    4.171119e+05  1.700937e+08  3.185529e+07  \n",
       "min    2.000000e+00  1.560000e+02  1.390000e+01  \n",
       "25%    1.427000e+03  4.423540e+05  1.314644e+05  \n",
       "50%    4.260000e+03  1.762010e+06  3.501921e+05  \n",
       "75%    2.629900e+04  1.021018e+07  1.667536e+06  \n",
       "max    5.453964e+06  2.252122e+09  4.124712e+08  "
      ]
     },
     "execution_count": 4,
     "metadata": {},
     "output_type": "execute_result"
    }
   ],
   "source": [
    "country_dataframe.describe()"
   ]
  },
  {
   "cell_type": "markdown",
   "id": "41a7c249",
   "metadata": {},
   "source": [
    "**The values are quite large, and it would be difficult to implement any model without the basic data extraction and scaling. Over the next few steps, the data would be compressed and would be refined to the values at which the Linear model can be implemented.**\n",
    "\n",
    "The `Country` row with the `Unknown` data is useless for any model, so removing it would result in a better dataset to work on. Also, checking for null values is a must, as there are only 250+ rows to work with.\n",
    "\n",
    "***"
   ]
  },
  {
   "cell_type": "markdown",
   "id": "918a51f0",
   "metadata": {},
   "source": [
    "# 3. Checking for Null Values"
   ]
  },
  {
   "cell_type": "code",
   "execution_count": 5,
   "id": "a2912c61",
   "metadata": {},
   "outputs": [
    {
     "data": {
      "text/html": [
       "<div>\n",
       "<style scoped>\n",
       "    .dataframe tbody tr th:only-of-type {\n",
       "        vertical-align: middle;\n",
       "    }\n",
       "\n",
       "    .dataframe tbody tr th {\n",
       "        vertical-align: top;\n",
       "    }\n",
       "\n",
       "    .dataframe thead th {\n",
       "        text-align: right;\n",
       "    }\n",
       "</style>\n",
       "<table border=\"1\" class=\"dataframe\">\n",
       "  <thead>\n",
       "    <tr style=\"text-align: right;\">\n",
       "      <th></th>\n",
       "      <th>Rank</th>\n",
       "      <th>Country</th>\n",
       "      <th>Players</th>\n",
       "      <th>Points</th>\n",
       "      <th>Number</th>\n",
       "      <th>Games</th>\n",
       "      <th>Badges</th>\n",
       "      <th>XP</th>\n",
       "      <th>Hours</th>\n",
       "    </tr>\n",
       "  </thead>\n",
       "  <tbody>\n",
       "    <tr>\n",
       "      <th>0</th>\n",
       "      <td>False</td>\n",
       "      <td>False</td>\n",
       "      <td>False</td>\n",
       "      <td>False</td>\n",
       "      <td>False</td>\n",
       "      <td>False</td>\n",
       "      <td>False</td>\n",
       "      <td>False</td>\n",
       "      <td>False</td>\n",
       "    </tr>\n",
       "    <tr>\n",
       "      <th>1</th>\n",
       "      <td>False</td>\n",
       "      <td>False</td>\n",
       "      <td>False</td>\n",
       "      <td>False</td>\n",
       "      <td>False</td>\n",
       "      <td>False</td>\n",
       "      <td>False</td>\n",
       "      <td>False</td>\n",
       "      <td>False</td>\n",
       "    </tr>\n",
       "    <tr>\n",
       "      <th>2</th>\n",
       "      <td>False</td>\n",
       "      <td>False</td>\n",
       "      <td>False</td>\n",
       "      <td>False</td>\n",
       "      <td>False</td>\n",
       "      <td>False</td>\n",
       "      <td>False</td>\n",
       "      <td>False</td>\n",
       "      <td>False</td>\n",
       "    </tr>\n",
       "    <tr>\n",
       "      <th>3</th>\n",
       "      <td>False</td>\n",
       "      <td>False</td>\n",
       "      <td>False</td>\n",
       "      <td>False</td>\n",
       "      <td>False</td>\n",
       "      <td>False</td>\n",
       "      <td>False</td>\n",
       "      <td>False</td>\n",
       "      <td>False</td>\n",
       "    </tr>\n",
       "    <tr>\n",
       "      <th>4</th>\n",
       "      <td>False</td>\n",
       "      <td>False</td>\n",
       "      <td>False</td>\n",
       "      <td>False</td>\n",
       "      <td>False</td>\n",
       "      <td>False</td>\n",
       "      <td>False</td>\n",
       "      <td>False</td>\n",
       "      <td>False</td>\n",
       "    </tr>\n",
       "    <tr>\n",
       "      <th>...</th>\n",
       "      <td>...</td>\n",
       "      <td>...</td>\n",
       "      <td>...</td>\n",
       "      <td>...</td>\n",
       "      <td>...</td>\n",
       "      <td>...</td>\n",
       "      <td>...</td>\n",
       "      <td>...</td>\n",
       "      <td>...</td>\n",
       "    </tr>\n",
       "    <tr>\n",
       "      <th>248</th>\n",
       "      <td>False</td>\n",
       "      <td>False</td>\n",
       "      <td>False</td>\n",
       "      <td>False</td>\n",
       "      <td>False</td>\n",
       "      <td>False</td>\n",
       "      <td>False</td>\n",
       "      <td>False</td>\n",
       "      <td>False</td>\n",
       "    </tr>\n",
       "    <tr>\n",
       "      <th>249</th>\n",
       "      <td>False</td>\n",
       "      <td>False</td>\n",
       "      <td>False</td>\n",
       "      <td>False</td>\n",
       "      <td>False</td>\n",
       "      <td>False</td>\n",
       "      <td>False</td>\n",
       "      <td>False</td>\n",
       "      <td>False</td>\n",
       "    </tr>\n",
       "    <tr>\n",
       "      <th>250</th>\n",
       "      <td>False</td>\n",
       "      <td>False</td>\n",
       "      <td>False</td>\n",
       "      <td>False</td>\n",
       "      <td>False</td>\n",
       "      <td>False</td>\n",
       "      <td>False</td>\n",
       "      <td>False</td>\n",
       "      <td>False</td>\n",
       "    </tr>\n",
       "    <tr>\n",
       "      <th>251</th>\n",
       "      <td>False</td>\n",
       "      <td>False</td>\n",
       "      <td>False</td>\n",
       "      <td>False</td>\n",
       "      <td>False</td>\n",
       "      <td>False</td>\n",
       "      <td>False</td>\n",
       "      <td>False</td>\n",
       "      <td>False</td>\n",
       "    </tr>\n",
       "    <tr>\n",
       "      <th>252</th>\n",
       "      <td>False</td>\n",
       "      <td>False</td>\n",
       "      <td>False</td>\n",
       "      <td>False</td>\n",
       "      <td>False</td>\n",
       "      <td>False</td>\n",
       "      <td>False</td>\n",
       "      <td>False</td>\n",
       "      <td>False</td>\n",
       "    </tr>\n",
       "  </tbody>\n",
       "</table>\n",
       "<p>253 rows × 9 columns</p>\n",
       "</div>"
      ],
      "text/plain": [
       "      Rank  Country  Players  Points  Number  Games  Badges     XP  Hours\n",
       "0    False    False    False   False   False  False   False  False  False\n",
       "1    False    False    False   False   False  False   False  False  False\n",
       "2    False    False    False   False   False  False   False  False  False\n",
       "3    False    False    False   False   False  False   False  False  False\n",
       "4    False    False    False   False   False  False   False  False  False\n",
       "..     ...      ...      ...     ...     ...    ...     ...    ...    ...\n",
       "248  False    False    False   False   False  False   False  False  False\n",
       "249  False    False    False   False   False  False   False  False  False\n",
       "250  False    False    False   False   False  False   False  False  False\n",
       "251  False    False    False   False   False  False   False  False  False\n",
       "252  False    False    False   False   False  False   False  False  False\n",
       "\n",
       "[253 rows x 9 columns]"
      ]
     },
     "execution_count": 5,
     "metadata": {},
     "output_type": "execute_result"
    }
   ],
   "source": [
    "country_dataframe.isnull()"
   ]
  },
  {
   "cell_type": "code",
   "execution_count": 6,
   "id": "0c581dff",
   "metadata": {},
   "outputs": [
    {
     "data": {
      "text/plain": [
       "Rank       0\n",
       "Country    0\n",
       "Players    0\n",
       "Points     0\n",
       "Number     0\n",
       "Games      0\n",
       "Badges     0\n",
       "XP         0\n",
       "Hours      0\n",
       "dtype: int64"
      ]
     },
     "execution_count": 6,
     "metadata": {},
     "output_type": "execute_result"
    }
   ],
   "source": [
    "country_dataframe.isnull().sum()"
   ]
  },
  {
   "cell_type": "markdown",
   "id": "3757ddc0",
   "metadata": {},
   "source": [
    "There are no NULL values, which makes our dataset as accurate as it should be."
   ]
  },
  {
   "cell_type": "code",
   "execution_count": 7,
   "id": "0a870a7f",
   "metadata": {},
   "outputs": [
    {
     "data": {
      "text/plain": [
       "(253, 9)"
      ]
     },
     "execution_count": 7,
     "metadata": {},
     "output_type": "execute_result"
    }
   ],
   "source": [
    "country_dataframe.shape"
   ]
  },
  {
   "cell_type": "markdown",
   "id": "8cf8b951",
   "metadata": {},
   "source": [
    "***"
   ]
  },
  {
   "cell_type": "markdown",
   "id": "1a22aa9b",
   "metadata": {},
   "source": [
    "# 4. Feature Transformation"
   ]
  },
  {
   "cell_type": "code",
   "execution_count": 8,
   "id": "bdc4dd3b",
   "metadata": {},
   "outputs": [],
   "source": [
    "country_dataframe.drop(index=0, inplace = True)"
   ]
  },
  {
   "cell_type": "markdown",
   "id": "15e12017",
   "metadata": {},
   "source": [
    "Dropping the first row would get rid of the `Unknown` data row. This would also start the `Index` values and `Rank` values from 1 instead of zero, making the dataset more clear and easier to look at."
   ]
  },
  {
   "cell_type": "code",
   "execution_count": 9,
   "id": "0b967198",
   "metadata": {
    "scrolled": true
   },
   "outputs": [],
   "source": [
    "country_dataframe.replace(to_replace = \"United Kingdom (Great Britain)\", value = \"United Kingdom\", inplace = True)"
   ]
  },
  {
   "cell_type": "markdown",
   "id": "0fffa380",
   "metadata": {},
   "source": [
    "`United Kingdom (Great Britain)` is a big name, that isn't required. Simply converting it to `United Kingdom` makes the value short and precise."
   ]
  },
  {
   "cell_type": "code",
   "execution_count": 10,
   "id": "e8eb6002",
   "metadata": {},
   "outputs": [
    {
     "data": {
      "text/html": [
       "<div>\n",
       "<style scoped>\n",
       "    .dataframe tbody tr th:only-of-type {\n",
       "        vertical-align: middle;\n",
       "    }\n",
       "\n",
       "    .dataframe tbody tr th {\n",
       "        vertical-align: top;\n",
       "    }\n",
       "\n",
       "    .dataframe thead th {\n",
       "        text-align: right;\n",
       "    }\n",
       "</style>\n",
       "<table border=\"1\" class=\"dataframe\">\n",
       "  <thead>\n",
       "    <tr style=\"text-align: right;\">\n",
       "      <th></th>\n",
       "      <th>Rank</th>\n",
       "      <th>Country</th>\n",
       "      <th>Players</th>\n",
       "      <th>Points</th>\n",
       "      <th>Number</th>\n",
       "      <th>Games</th>\n",
       "      <th>Badges</th>\n",
       "      <th>XP</th>\n",
       "      <th>Hours</th>\n",
       "    </tr>\n",
       "  </thead>\n",
       "  <tbody>\n",
       "    <tr>\n",
       "      <th>1</th>\n",
       "      <td>1</td>\n",
       "      <td>United States</td>\n",
       "      <td>59698</td>\n",
       "      <td>52132889.98</td>\n",
       "      <td>84410455</td>\n",
       "      <td>20379201</td>\n",
       "      <td>2569218</td>\n",
       "      <td>974895706</td>\n",
       "      <td>236137390.5</td>\n",
       "    </tr>\n",
       "    <tr>\n",
       "      <th>2</th>\n",
       "      <td>2</td>\n",
       "      <td>Russian Federation</td>\n",
       "      <td>31058</td>\n",
       "      <td>24753943.31</td>\n",
       "      <td>37279292</td>\n",
       "      <td>7247856</td>\n",
       "      <td>1657378</td>\n",
       "      <td>693424533</td>\n",
       "      <td>104656082.0</td>\n",
       "    </tr>\n",
       "    <tr>\n",
       "      <th>3</th>\n",
       "      <td>3</td>\n",
       "      <td>Germany</td>\n",
       "      <td>21750</td>\n",
       "      <td>18214362.15</td>\n",
       "      <td>28423805</td>\n",
       "      <td>6658939</td>\n",
       "      <td>1381807</td>\n",
       "      <td>590848431</td>\n",
       "      <td>86523185.4</td>\n",
       "    </tr>\n",
       "    <tr>\n",
       "      <th>4</th>\n",
       "      <td>4</td>\n",
       "      <td>United Kingdom</td>\n",
       "      <td>16225</td>\n",
       "      <td>15635912.83</td>\n",
       "      <td>25101789</td>\n",
       "      <td>5780703</td>\n",
       "      <td>786975</td>\n",
       "      <td>294574732</td>\n",
       "      <td>68131144.6</td>\n",
       "    </tr>\n",
       "    <tr>\n",
       "      <th>5</th>\n",
       "      <td>5</td>\n",
       "      <td>Canada</td>\n",
       "      <td>12483</td>\n",
       "      <td>10999031.70</td>\n",
       "      <td>17436104</td>\n",
       "      <td>4012880</td>\n",
       "      <td>606502</td>\n",
       "      <td>239174494</td>\n",
       "      <td>49354715.3</td>\n",
       "    </tr>\n",
       "  </tbody>\n",
       "</table>\n",
       "</div>"
      ],
      "text/plain": [
       "   Rank             Country  Players       Points    Number     Games  \\\n",
       "1     1       United States    59698  52132889.98  84410455  20379201   \n",
       "2     2  Russian Federation    31058  24753943.31  37279292   7247856   \n",
       "3     3             Germany    21750  18214362.15  28423805   6658939   \n",
       "4     4      United Kingdom    16225  15635912.83  25101789   5780703   \n",
       "5     5              Canada    12483  10999031.70  17436104   4012880   \n",
       "\n",
       "    Badges         XP        Hours  \n",
       "1  2569218  974895706  236137390.5  \n",
       "2  1657378  693424533  104656082.0  \n",
       "3  1381807  590848431   86523185.4  \n",
       "4   786975  294574732   68131144.6  \n",
       "5   606502  239174494   49354715.3  "
      ]
     },
     "execution_count": 10,
     "metadata": {},
     "output_type": "execute_result"
    }
   ],
   "source": [
    "country_dataframe.head()"
   ]
  },
  {
   "cell_type": "code",
   "execution_count": 11,
   "id": "b6926492",
   "metadata": {},
   "outputs": [],
   "source": [
    "country_dataframe.drop(\"Number\", axis = 1, inplace = True)"
   ]
  },
  {
   "cell_type": "code",
   "execution_count": 12,
   "id": "aa1dd801",
   "metadata": {
    "scrolled": true
   },
   "outputs": [
    {
     "data": {
      "text/html": [
       "<div>\n",
       "<style scoped>\n",
       "    .dataframe tbody tr th:only-of-type {\n",
       "        vertical-align: middle;\n",
       "    }\n",
       "\n",
       "    .dataframe tbody tr th {\n",
       "        vertical-align: top;\n",
       "    }\n",
       "\n",
       "    .dataframe thead th {\n",
       "        text-align: right;\n",
       "    }\n",
       "</style>\n",
       "<table border=\"1\" class=\"dataframe\">\n",
       "  <thead>\n",
       "    <tr style=\"text-align: right;\">\n",
       "      <th></th>\n",
       "      <th>Rank</th>\n",
       "      <th>Country</th>\n",
       "      <th>Players</th>\n",
       "      <th>Points</th>\n",
       "      <th>Games</th>\n",
       "      <th>Badges</th>\n",
       "      <th>XP</th>\n",
       "      <th>Hours</th>\n",
       "    </tr>\n",
       "  </thead>\n",
       "  <tbody>\n",
       "    <tr>\n",
       "      <th>1</th>\n",
       "      <td>1</td>\n",
       "      <td>United States</td>\n",
       "      <td>59698</td>\n",
       "      <td>52132889.98</td>\n",
       "      <td>20379201</td>\n",
       "      <td>2569218</td>\n",
       "      <td>974895706</td>\n",
       "      <td>236137390.5</td>\n",
       "    </tr>\n",
       "    <tr>\n",
       "      <th>2</th>\n",
       "      <td>2</td>\n",
       "      <td>Russian Federation</td>\n",
       "      <td>31058</td>\n",
       "      <td>24753943.31</td>\n",
       "      <td>7247856</td>\n",
       "      <td>1657378</td>\n",
       "      <td>693424533</td>\n",
       "      <td>104656082.0</td>\n",
       "    </tr>\n",
       "    <tr>\n",
       "      <th>3</th>\n",
       "      <td>3</td>\n",
       "      <td>Germany</td>\n",
       "      <td>21750</td>\n",
       "      <td>18214362.15</td>\n",
       "      <td>6658939</td>\n",
       "      <td>1381807</td>\n",
       "      <td>590848431</td>\n",
       "      <td>86523185.4</td>\n",
       "    </tr>\n",
       "    <tr>\n",
       "      <th>4</th>\n",
       "      <td>4</td>\n",
       "      <td>United Kingdom</td>\n",
       "      <td>16225</td>\n",
       "      <td>15635912.83</td>\n",
       "      <td>5780703</td>\n",
       "      <td>786975</td>\n",
       "      <td>294574732</td>\n",
       "      <td>68131144.6</td>\n",
       "    </tr>\n",
       "    <tr>\n",
       "      <th>5</th>\n",
       "      <td>5</td>\n",
       "      <td>Canada</td>\n",
       "      <td>12483</td>\n",
       "      <td>10999031.70</td>\n",
       "      <td>4012880</td>\n",
       "      <td>606502</td>\n",
       "      <td>239174494</td>\n",
       "      <td>49354715.3</td>\n",
       "    </tr>\n",
       "  </tbody>\n",
       "</table>\n",
       "</div>"
      ],
      "text/plain": [
       "   Rank             Country  Players       Points     Games   Badges  \\\n",
       "1     1       United States    59698  52132889.98  20379201  2569218   \n",
       "2     2  Russian Federation    31058  24753943.31   7247856  1657378   \n",
       "3     3             Germany    21750  18214362.15   6658939  1381807   \n",
       "4     4      United Kingdom    16225  15635912.83   5780703   786975   \n",
       "5     5              Canada    12483  10999031.70   4012880   606502   \n",
       "\n",
       "          XP        Hours  \n",
       "1  974895706  236137390.5  \n",
       "2  693424533  104656082.0  \n",
       "3  590848431   86523185.4  \n",
       "4  294574732   68131144.6  \n",
       "5  239174494   49354715.3  "
      ]
     },
     "execution_count": 12,
     "metadata": {},
     "output_type": "execute_result"
    }
   ],
   "source": [
    "country_dataframe.head()"
   ]
  },
  {
   "cell_type": "markdown",
   "id": "88d9f9d4",
   "metadata": {},
   "source": [
    "The `Number` column is removed, as it has no signifacance in the dataset.\n",
    "\n",
    "***"
   ]
  },
  {
   "cell_type": "markdown",
   "id": "5a3adf9a",
   "metadata": {},
   "source": [
    "# 5. Creating a Top 10 Dataframe"
   ]
  },
  {
   "cell_type": "markdown",
   "id": "c12ea329",
   "metadata": {},
   "source": [
    "Over the next series of steps, a new dataframe copy called as `top_10_dataframe` will be created, that would include only the first 10 rows of the original dataset. This can be used to perform basic country comparisons and get an idea of how the data should be handled before the model is implemented."
   ]
  },
  {
   "cell_type": "code",
   "execution_count": 13,
   "id": "e4e635d2",
   "metadata": {
    "scrolled": true
   },
   "outputs": [
    {
     "data": {
      "text/html": [
       "<div>\n",
       "<style scoped>\n",
       "    .dataframe tbody tr th:only-of-type {\n",
       "        vertical-align: middle;\n",
       "    }\n",
       "\n",
       "    .dataframe tbody tr th {\n",
       "        vertical-align: top;\n",
       "    }\n",
       "\n",
       "    .dataframe thead th {\n",
       "        text-align: right;\n",
       "    }\n",
       "</style>\n",
       "<table border=\"1\" class=\"dataframe\">\n",
       "  <thead>\n",
       "    <tr style=\"text-align: right;\">\n",
       "      <th></th>\n",
       "      <th>Rank</th>\n",
       "      <th>Country</th>\n",
       "      <th>Players</th>\n",
       "      <th>Points</th>\n",
       "      <th>Games</th>\n",
       "      <th>Badges</th>\n",
       "      <th>XP</th>\n",
       "      <th>Hours</th>\n",
       "    </tr>\n",
       "  </thead>\n",
       "  <tbody>\n",
       "    <tr>\n",
       "      <th>1</th>\n",
       "      <td>1</td>\n",
       "      <td>United States</td>\n",
       "      <td>59698</td>\n",
       "      <td>52132889.98</td>\n",
       "      <td>20379201</td>\n",
       "      <td>2569218</td>\n",
       "      <td>974895706</td>\n",
       "      <td>236137390.5</td>\n",
       "    </tr>\n",
       "    <tr>\n",
       "      <th>2</th>\n",
       "      <td>2</td>\n",
       "      <td>Russian Federation</td>\n",
       "      <td>31058</td>\n",
       "      <td>24753943.31</td>\n",
       "      <td>7247856</td>\n",
       "      <td>1657378</td>\n",
       "      <td>693424533</td>\n",
       "      <td>104656082.0</td>\n",
       "    </tr>\n",
       "    <tr>\n",
       "      <th>3</th>\n",
       "      <td>3</td>\n",
       "      <td>Germany</td>\n",
       "      <td>21750</td>\n",
       "      <td>18214362.15</td>\n",
       "      <td>6658939</td>\n",
       "      <td>1381807</td>\n",
       "      <td>590848431</td>\n",
       "      <td>86523185.4</td>\n",
       "    </tr>\n",
       "    <tr>\n",
       "      <th>4</th>\n",
       "      <td>4</td>\n",
       "      <td>United Kingdom</td>\n",
       "      <td>16225</td>\n",
       "      <td>15635912.83</td>\n",
       "      <td>5780703</td>\n",
       "      <td>786975</td>\n",
       "      <td>294574732</td>\n",
       "      <td>68131144.6</td>\n",
       "    </tr>\n",
       "    <tr>\n",
       "      <th>5</th>\n",
       "      <td>5</td>\n",
       "      <td>Canada</td>\n",
       "      <td>12483</td>\n",
       "      <td>10999031.70</td>\n",
       "      <td>4012880</td>\n",
       "      <td>606502</td>\n",
       "      <td>239174494</td>\n",
       "      <td>49354715.3</td>\n",
       "    </tr>\n",
       "    <tr>\n",
       "      <th>6</th>\n",
       "      <td>6</td>\n",
       "      <td>China</td>\n",
       "      <td>15605</td>\n",
       "      <td>10847234.66</td>\n",
       "      <td>6168652</td>\n",
       "      <td>1100485</td>\n",
       "      <td>506417923</td>\n",
       "      <td>54823363.8</td>\n",
       "    </tr>\n",
       "    <tr>\n",
       "      <th>7</th>\n",
       "      <td>7</td>\n",
       "      <td>Brazil</td>\n",
       "      <td>15569</td>\n",
       "      <td>10136859.28</td>\n",
       "      <td>3918546</td>\n",
       "      <td>774781</td>\n",
       "      <td>247132541</td>\n",
       "      <td>54157619.5</td>\n",
       "    </tr>\n",
       "    <tr>\n",
       "      <th>8</th>\n",
       "      <td>8</td>\n",
       "      <td>Poland</td>\n",
       "      <td>11358</td>\n",
       "      <td>9085626.49</td>\n",
       "      <td>3123884</td>\n",
       "      <td>523117</td>\n",
       "      <td>178278957</td>\n",
       "      <td>39163756.6</td>\n",
       "    </tr>\n",
       "    <tr>\n",
       "      <th>9</th>\n",
       "      <td>9</td>\n",
       "      <td>Japan</td>\n",
       "      <td>9548</td>\n",
       "      <td>8802348.47</td>\n",
       "      <td>3328328</td>\n",
       "      <td>698257</td>\n",
       "      <td>265270862</td>\n",
       "      <td>38756414.3</td>\n",
       "    </tr>\n",
       "    <tr>\n",
       "      <th>10</th>\n",
       "      <td>10</td>\n",
       "      <td>France</td>\n",
       "      <td>7675</td>\n",
       "      <td>7817051.60</td>\n",
       "      <td>2362871</td>\n",
       "      <td>384431</td>\n",
       "      <td>130107826</td>\n",
       "      <td>29692105.0</td>\n",
       "    </tr>\n",
       "  </tbody>\n",
       "</table>\n",
       "</div>"
      ],
      "text/plain": [
       "    Rank             Country  Players       Points     Games   Badges  \\\n",
       "1      1       United States    59698  52132889.98  20379201  2569218   \n",
       "2      2  Russian Federation    31058  24753943.31   7247856  1657378   \n",
       "3      3             Germany    21750  18214362.15   6658939  1381807   \n",
       "4      4      United Kingdom    16225  15635912.83   5780703   786975   \n",
       "5      5              Canada    12483  10999031.70   4012880   606502   \n",
       "6      6               China    15605  10847234.66   6168652  1100485   \n",
       "7      7              Brazil    15569  10136859.28   3918546   774781   \n",
       "8      8              Poland    11358   9085626.49   3123884   523117   \n",
       "9      9               Japan     9548   8802348.47   3328328   698257   \n",
       "10    10              France     7675   7817051.60   2362871   384431   \n",
       "\n",
       "           XP        Hours  \n",
       "1   974895706  236137390.5  \n",
       "2   693424533  104656082.0  \n",
       "3   590848431   86523185.4  \n",
       "4   294574732   68131144.6  \n",
       "5   239174494   49354715.3  \n",
       "6   506417923   54823363.8  \n",
       "7   247132541   54157619.5  \n",
       "8   178278957   39163756.6  \n",
       "9   265270862   38756414.3  \n",
       "10  130107826   29692105.0  "
      ]
     },
     "execution_count": 13,
     "metadata": {},
     "output_type": "execute_result"
    }
   ],
   "source": [
    "top_10_dataframe = country_dataframe.iloc[0:10]\n",
    "top_10_dataframe"
   ]
  },
  {
   "cell_type": "code",
   "execution_count": 14,
   "id": "25e024ae",
   "metadata": {
    "scrolled": false
   },
   "outputs": [
    {
     "data": {
      "text/plain": [
       "<AxesSubplot:xlabel='Country'>"
      ]
     },
     "execution_count": 14,
     "metadata": {},
     "output_type": "execute_result"
    },
    {
     "data": {
      "image/png": "[encoded data removed]",
      "text/plain": [
       "<Figure size 432x288 with 1 Axes>"
      ]
     },
     "metadata": {
      "needs_background": "light"
     },
     "output_type": "display_data"
    }
   ],
   "source": [
    "top_10_dataframe.plot(x = \"Country\", y = \"Hours\", kind = 'bar', color = 'red')"
   ]
  },
  {
   "cell_type": "markdown",
   "id": "82540f28",
   "metadata": {},
   "source": [
    "***"
   ]
  },
  {
   "cell_type": "code",
   "execution_count": 15,
   "id": "9670e8a6",
   "metadata": {
    "scrolled": false
   },
   "outputs": [
    {
     "data": {
      "text/plain": [
       "<AxesSubplot:xlabel='Country'>"
      ]
     },
     "execution_count": 15,
     "metadata": {},
     "output_type": "execute_result"
    },
    {
     "data": {
      "image/png": "[encoded data removed]",
      "text/plain": [
       "<Figure size 432x288 with 1 Axes>"
      ]
     },
     "metadata": {
      "needs_background": "light"
     },
     "output_type": "display_data"
    }
   ],
   "source": [
    "top_10_dataframe.plot(x = \"Country\", y = \"Games\", kind = 'bar', color = 'purple')"
   ]
  },
  {
   "cell_type": "markdown",
   "id": "0c4460ab",
   "metadata": {},
   "source": [
    "***"
   ]
  },
  {
   "cell_type": "code",
   "execution_count": 16,
   "id": "1af914de",
   "metadata": {
    "scrolled": false
   },
   "outputs": [
    {
     "data": {
      "text/plain": [
       "<AxesSubplot:xlabel='Country'>"
      ]
     },
     "execution_count": 16,
     "metadata": {},
     "output_type": "execute_result"
    },
    {
     "data": {
      "image/png": "[encoded data removed]",
      "text/plain": [
       "<Figure size 432x288 with 1 Axes>"
      ]
     },
     "metadata": {
      "needs_background": "light"
     },
     "output_type": "display_data"
    }
   ],
   "source": [
    "top_10_dataframe.plot(x = \"Country\", y = \"Players\", kind = 'bar', color = 'blue')"
   ]
  },
  {
   "cell_type": "markdown",
   "id": "81a25498",
   "metadata": {},
   "source": [
    "***"
   ]
  },
  {
   "cell_type": "code",
   "execution_count": 17,
   "id": "bd88b57e",
   "metadata": {
    "scrolled": false
   },
   "outputs": [
    {
     "data": {
      "text/plain": [
       "<AxesSubplot:xlabel='Country'>"
      ]
     },
     "execution_count": 17,
     "metadata": {},
     "output_type": "execute_result"
    },
    {
     "data": {
      "image/png": "[encoded data removed]",
      "text/plain": [
       "<Figure size 432x288 with 1 Axes>"
      ]
     },
     "metadata": {
      "needs_background": "light"
     },
     "output_type": "display_data"
    }
   ],
   "source": [
    "top_10_dataframe.plot(x = \"Country\", y = \"Points\", kind = 'bar', color = 'green')"
   ]
  },
  {
   "cell_type": "markdown",
   "id": "7c013e56",
   "metadata": {},
   "source": [
    "***"
   ]
  },
  {
   "cell_type": "code",
   "execution_count": 18,
   "id": "5114612d",
   "metadata": {},
   "outputs": [
    {
     "data": {
      "text/plain": [
       "<AxesSubplot:xlabel='Country'>"
      ]
     },
     "execution_count": 18,
     "metadata": {},
     "output_type": "execute_result"
    },
    {
     "data": {
      "image/png": "[encoded data removed]",
      "text/plain": [
       "<Figure size 432x288 with 1 Axes>"
      ]
     },
     "metadata": {
      "needs_background": "light"
     },
     "output_type": "display_data"
    }
   ],
   "source": [
    "top_10_dataframe.plot(x = \"Country\", y = \"XP\", kind = 'bar', color = 'orange')"
   ]
  },
  {
   "cell_type": "markdown",
   "id": "f9fc07c5",
   "metadata": {},
   "source": [
    "***"
   ]
  },
  {
   "cell_type": "code",
   "execution_count": 19,
   "id": "b4e7141f",
   "metadata": {},
   "outputs": [
    {
     "data": {
      "text/plain": [
       "<AxesSubplot:xlabel='Country'>"
      ]
     },
     "execution_count": 19,
     "metadata": {},
     "output_type": "execute_result"
    },
    {
     "data": {
      "image/png": "[encoded data removed]",
      "text/plain": [
       "<Figure size 432x288 with 1 Axes>"
      ]
     },
     "metadata": {
      "needs_background": "light"
     },
     "output_type": "display_data"
    }
   ],
   "source": [
    "top_10_dataframe.plot(x = \"Country\", y = \"Badges\", kind = 'bar', color = 'gold')"
   ]
  },
  {
   "cell_type": "markdown",
   "id": "230500ed",
   "metadata": {},
   "source": [
    "The results show how `United States` is dominating in every aspect. However, the data of the respective countries do not follow the exact downwards trajectory of `Points`, `Badges`, `XP` or `Games`. This shows that some countries spend more money on `Games` but still lack behind those countries who buy less and have more `Points` and `XP`.\n",
    "\n",
    "***"
   ]
  },
  {
   "cell_type": "markdown",
   "id": "8d47c8ba",
   "metadata": {},
   "source": [
    "# 6. Creating a Player Average Dataframe"
   ]
  },
  {
   "cell_type": "markdown",
   "id": "fc66ea7a",
   "metadata": {},
   "source": [
    "To handle the massive numbers in the data, a basic logic is applied. Every gamer has some `Points` or `XP` earned, but the data shows the overall numbers. If we know the number of `Players`, we can simply divide the other data values to get the average of all columns, and basically merge the columns with the `Players` column.\n",
    "\n",
    "A new dataset called `player_avg_dataframe`, contains the average of all columns with respect to the number of `Players` in the `Country`. This would help simplify the data and would be easier to use for the regression models to be applied."
   ]
  },
  {
   "cell_type": "code",
   "execution_count": 20,
   "id": "7e4f80e3",
   "metadata": {},
   "outputs": [
    {
     "data": {
      "text/plain": [
       "Index(['Rank', 'Country', 'Players', 'Points', 'Games', 'Badges', 'XP',\n",
       "       'Hours'],\n",
       "      dtype='object')"
      ]
     },
     "execution_count": 20,
     "metadata": {},
     "output_type": "execute_result"
    }
   ],
   "source": [
    "player_avg_dataframe = country_dataframe.copy()\n",
    "player_avg_dataframe.columns"
   ]
  },
  {
   "cell_type": "code",
   "execution_count": 21,
   "id": "f76d462f",
   "metadata": {},
   "outputs": [
    {
     "name": "stdout",
     "output_type": "stream",
     "text": [
      "0 Rank\n",
      "1 Country\n",
      "2 Players\n",
      "3 Points\n",
      "4 Games\n",
      "5 Badges\n",
      "6 XP\n",
      "7 Hours\n"
     ]
    },
    {
     "data": {
      "text/html": [
       "<div>\n",
       "<style scoped>\n",
       "    .dataframe tbody tr th:only-of-type {\n",
       "        vertical-align: middle;\n",
       "    }\n",
       "\n",
       "    .dataframe tbody tr th {\n",
       "        vertical-align: top;\n",
       "    }\n",
       "\n",
       "    .dataframe thead th {\n",
       "        text-align: right;\n",
       "    }\n",
       "</style>\n",
       "<table border=\"1\" class=\"dataframe\">\n",
       "  <thead>\n",
       "    <tr style=\"text-align: right;\">\n",
       "      <th></th>\n",
       "      <th>Rank</th>\n",
       "      <th>Country</th>\n",
       "      <th>Players</th>\n",
       "      <th>Points_avg</th>\n",
       "      <th>Games_avg</th>\n",
       "      <th>Badges_avg</th>\n",
       "      <th>XP_avg</th>\n",
       "      <th>Hours_avg</th>\n",
       "    </tr>\n",
       "  </thead>\n",
       "  <tbody>\n",
       "    <tr>\n",
       "      <th>1</th>\n",
       "      <td>1</td>\n",
       "      <td>United States</td>\n",
       "      <td>59698</td>\n",
       "      <td>873.276994</td>\n",
       "      <td>341.371587</td>\n",
       "      <td>43.036919</td>\n",
       "      <td>16330.458407</td>\n",
       "      <td>3955.532690</td>\n",
       "    </tr>\n",
       "    <tr>\n",
       "      <th>2</th>\n",
       "      <td>2</td>\n",
       "      <td>Russian Federation</td>\n",
       "      <td>31058</td>\n",
       "      <td>797.023096</td>\n",
       "      <td>233.365188</td>\n",
       "      <td>53.363964</td>\n",
       "      <td>22326.760674</td>\n",
       "      <td>3369.698049</td>\n",
       "    </tr>\n",
       "    <tr>\n",
       "      <th>3</th>\n",
       "      <td>3</td>\n",
       "      <td>Germany</td>\n",
       "      <td>21750</td>\n",
       "      <td>837.441938</td>\n",
       "      <td>306.158115</td>\n",
       "      <td>63.531356</td>\n",
       "      <td>27165.445103</td>\n",
       "      <td>3978.077490</td>\n",
       "    </tr>\n",
       "    <tr>\n",
       "      <th>4</th>\n",
       "      <td>4</td>\n",
       "      <td>United Kingdom</td>\n",
       "      <td>16225</td>\n",
       "      <td>963.692624</td>\n",
       "      <td>356.283698</td>\n",
       "      <td>48.503852</td>\n",
       "      <td>18155.607519</td>\n",
       "      <td>4199.146046</td>\n",
       "    </tr>\n",
       "    <tr>\n",
       "      <th>5</th>\n",
       "      <td>5</td>\n",
       "      <td>Canada</td>\n",
       "      <td>12483</td>\n",
       "      <td>881.120860</td>\n",
       "      <td>321.467596</td>\n",
       "      <td>48.586237</td>\n",
       "      <td>19160.017143</td>\n",
       "      <td>3953.754330</td>\n",
       "    </tr>\n",
       "    <tr>\n",
       "      <th>...</th>\n",
       "      <td>...</td>\n",
       "      <td>...</td>\n",
       "      <td>...</td>\n",
       "      <td>...</td>\n",
       "      <td>...</td>\n",
       "      <td>...</td>\n",
       "      <td>...</td>\n",
       "      <td>...</td>\n",
       "    </tr>\n",
       "    <tr>\n",
       "      <th>248</th>\n",
       "      <td>248</td>\n",
       "      <td>Mauritania</td>\n",
       "      <td>10</td>\n",
       "      <td>323.150000</td>\n",
       "      <td>78.800000</td>\n",
       "      <td>14.400000</td>\n",
       "      <td>4329.200000</td>\n",
       "      <td>2457.440000</td>\n",
       "    </tr>\n",
       "    <tr>\n",
       "      <th>249</th>\n",
       "      <td>249</td>\n",
       "      <td>French Guiana</td>\n",
       "      <td>7</td>\n",
       "      <td>369.667143</td>\n",
       "      <td>157.142857</td>\n",
       "      <td>11.571429</td>\n",
       "      <td>2387.000000</td>\n",
       "      <td>2952.142857</td>\n",
       "    </tr>\n",
       "    <tr>\n",
       "      <th>250</th>\n",
       "      <td>250</td>\n",
       "      <td>Anguilla</td>\n",
       "      <td>14</td>\n",
       "      <td>149.268571</td>\n",
       "      <td>44.714286</td>\n",
       "      <td>8.285714</td>\n",
       "      <td>1530.500000</td>\n",
       "      <td>1297.800000</td>\n",
       "    </tr>\n",
       "    <tr>\n",
       "      <th>251</th>\n",
       "      <td>251</td>\n",
       "      <td>Moldova, Republic of</td>\n",
       "      <td>2</td>\n",
       "      <td>308.510000</td>\n",
       "      <td>64.500000</td>\n",
       "      <td>58.000000</td>\n",
       "      <td>8743.000000</td>\n",
       "      <td>969.950000</td>\n",
       "    </tr>\n",
       "    <tr>\n",
       "      <th>252</th>\n",
       "      <td>252</td>\n",
       "      <td>Yugoslavia</td>\n",
       "      <td>1</td>\n",
       "      <td>0.540000</td>\n",
       "      <td>3.000000</td>\n",
       "      <td>2.000000</td>\n",
       "      <td>156.000000</td>\n",
       "      <td>13.900000</td>\n",
       "    </tr>\n",
       "  </tbody>\n",
       "</table>\n",
       "<p>252 rows × 8 columns</p>\n",
       "</div>"
      ],
      "text/plain": [
       "     Rank               Country  Players  Points_avg   Games_avg  Badges_avg  \\\n",
       "1       1         United States    59698  873.276994  341.371587   43.036919   \n",
       "2       2    Russian Federation    31058  797.023096  233.365188   53.363964   \n",
       "3       3               Germany    21750  837.441938  306.158115   63.531356   \n",
       "4       4        United Kingdom    16225  963.692624  356.283698   48.503852   \n",
       "5       5                Canada    12483  881.120860  321.467596   48.586237   \n",
       "..    ...                   ...      ...         ...         ...         ...   \n",
       "248   248            Mauritania       10  323.150000   78.800000   14.400000   \n",
       "249   249         French Guiana        7  369.667143  157.142857   11.571429   \n",
       "250   250              Anguilla       14  149.268571   44.714286    8.285714   \n",
       "251   251  Moldova, Republic of        2  308.510000   64.500000   58.000000   \n",
       "252   252            Yugoslavia        1    0.540000    3.000000    2.000000   \n",
       "\n",
       "           XP_avg    Hours_avg  \n",
       "1    16330.458407  3955.532690  \n",
       "2    22326.760674  3369.698049  \n",
       "3    27165.445103  3978.077490  \n",
       "4    18155.607519  4199.146046  \n",
       "5    19160.017143  3953.754330  \n",
       "..            ...          ...  \n",
       "248   4329.200000  2457.440000  \n",
       "249   2387.000000  2952.142857  \n",
       "250   1530.500000  1297.800000  \n",
       "251   8743.000000   969.950000  \n",
       "252    156.000000    13.900000  \n",
       "\n",
       "[252 rows x 8 columns]"
      ]
     },
     "execution_count": 21,
     "metadata": {},
     "output_type": "execute_result"
    }
   ],
   "source": [
    "for i, column in enumerate(player_avg_dataframe.columns):\n",
    "    if (i>2):\n",
    "        player_avg_dataframe[column + \"_avg\"] =  player_avg_dataframe[column] / player_avg_dataframe[\"Players\"]\n",
    "        del player_avg_dataframe[column]\n",
    "    print(i, column)\n",
    "player_avg_dataframe"
   ]
  },
  {
   "cell_type": "markdown",
   "id": "86a9e4b7",
   "metadata": {},
   "source": [
    "We don't require the following columns in this dataset- \n",
    "\n",
    "1. `Rank` - It is the same as the index of the columns.\n",
    "2. `Countries` - We don't require non-numeric data columns.\n",
    "3. `Players` - The player column is already used to calculate the average of all the other respective columns, reducing it's overall significance ahead.\n",
    "\n",
    "**These columns would be removed,  and we will have a nice dataset to work with.**"
   ]
  },
  {
   "cell_type": "code",
   "execution_count": 22,
   "id": "57e16511",
   "metadata": {
    "scrolled": true
   },
   "outputs": [
    {
     "data": {
      "text/html": [
       "<div>\n",
       "<style scoped>\n",
       "    .dataframe tbody tr th:only-of-type {\n",
       "        vertical-align: middle;\n",
       "    }\n",
       "\n",
       "    .dataframe tbody tr th {\n",
       "        vertical-align: top;\n",
       "    }\n",
       "\n",
       "    .dataframe thead th {\n",
       "        text-align: right;\n",
       "    }\n",
       "</style>\n",
       "<table border=\"1\" class=\"dataframe\">\n",
       "  <thead>\n",
       "    <tr style=\"text-align: right;\">\n",
       "      <th></th>\n",
       "      <th>Points_avg</th>\n",
       "      <th>Games_avg</th>\n",
       "      <th>Badges_avg</th>\n",
       "      <th>XP_avg</th>\n",
       "      <th>Hours_avg</th>\n",
       "    </tr>\n",
       "  </thead>\n",
       "  <tbody>\n",
       "    <tr>\n",
       "      <th>1</th>\n",
       "      <td>873.276994</td>\n",
       "      <td>341.371587</td>\n",
       "      <td>43.036919</td>\n",
       "      <td>16330.458407</td>\n",
       "      <td>3955.532690</td>\n",
       "    </tr>\n",
       "    <tr>\n",
       "      <th>2</th>\n",
       "      <td>797.023096</td>\n",
       "      <td>233.365188</td>\n",
       "      <td>53.363964</td>\n",
       "      <td>22326.760674</td>\n",
       "      <td>3369.698049</td>\n",
       "    </tr>\n",
       "    <tr>\n",
       "      <th>3</th>\n",
       "      <td>837.441938</td>\n",
       "      <td>306.158115</td>\n",
       "      <td>63.531356</td>\n",
       "      <td>27165.445103</td>\n",
       "      <td>3978.077490</td>\n",
       "    </tr>\n",
       "    <tr>\n",
       "      <th>4</th>\n",
       "      <td>963.692624</td>\n",
       "      <td>356.283698</td>\n",
       "      <td>48.503852</td>\n",
       "      <td>18155.607519</td>\n",
       "      <td>4199.146046</td>\n",
       "    </tr>\n",
       "    <tr>\n",
       "      <th>5</th>\n",
       "      <td>881.120860</td>\n",
       "      <td>321.467596</td>\n",
       "      <td>48.586237</td>\n",
       "      <td>19160.017143</td>\n",
       "      <td>3953.754330</td>\n",
       "    </tr>\n",
       "    <tr>\n",
       "      <th>...</th>\n",
       "      <td>...</td>\n",
       "      <td>...</td>\n",
       "      <td>...</td>\n",
       "      <td>...</td>\n",
       "      <td>...</td>\n",
       "    </tr>\n",
       "    <tr>\n",
       "      <th>248</th>\n",
       "      <td>323.150000</td>\n",
       "      <td>78.800000</td>\n",
       "      <td>14.400000</td>\n",
       "      <td>4329.200000</td>\n",
       "      <td>2457.440000</td>\n",
       "    </tr>\n",
       "    <tr>\n",
       "      <th>249</th>\n",
       "      <td>369.667143</td>\n",
       "      <td>157.142857</td>\n",
       "      <td>11.571429</td>\n",
       "      <td>2387.000000</td>\n",
       "      <td>2952.142857</td>\n",
       "    </tr>\n",
       "    <tr>\n",
       "      <th>250</th>\n",
       "      <td>149.268571</td>\n",
       "      <td>44.714286</td>\n",
       "      <td>8.285714</td>\n",
       "      <td>1530.500000</td>\n",
       "      <td>1297.800000</td>\n",
       "    </tr>\n",
       "    <tr>\n",
       "      <th>251</th>\n",
       "      <td>308.510000</td>\n",
       "      <td>64.500000</td>\n",
       "      <td>58.000000</td>\n",
       "      <td>8743.000000</td>\n",
       "      <td>969.950000</td>\n",
       "    </tr>\n",
       "    <tr>\n",
       "      <th>252</th>\n",
       "      <td>0.540000</td>\n",
       "      <td>3.000000</td>\n",
       "      <td>2.000000</td>\n",
       "      <td>156.000000</td>\n",
       "      <td>13.900000</td>\n",
       "    </tr>\n",
       "  </tbody>\n",
       "</table>\n",
       "<p>252 rows × 5 columns</p>\n",
       "</div>"
      ],
      "text/plain": [
       "     Points_avg   Games_avg  Badges_avg        XP_avg    Hours_avg\n",
       "1    873.276994  341.371587   43.036919  16330.458407  3955.532690\n",
       "2    797.023096  233.365188   53.363964  22326.760674  3369.698049\n",
       "3    837.441938  306.158115   63.531356  27165.445103  3978.077490\n",
       "4    963.692624  356.283698   48.503852  18155.607519  4199.146046\n",
       "5    881.120860  321.467596   48.586237  19160.017143  3953.754330\n",
       "..          ...         ...         ...           ...          ...\n",
       "248  323.150000   78.800000   14.400000   4329.200000  2457.440000\n",
       "249  369.667143  157.142857   11.571429   2387.000000  2952.142857\n",
       "250  149.268571   44.714286    8.285714   1530.500000  1297.800000\n",
       "251  308.510000   64.500000   58.000000   8743.000000   969.950000\n",
       "252    0.540000    3.000000    2.000000    156.000000    13.900000\n",
       "\n",
       "[252 rows x 5 columns]"
      ]
     },
     "execution_count": 22,
     "metadata": {},
     "output_type": "execute_result"
    }
   ],
   "source": [
    "player_avg_dataframe.drop(\"Players\", axis = 1, inplace = True)\n",
    "player_avg_dataframe.drop(\"Rank\", axis = 1, inplace = True)\n",
    "player_avg_dataframe.drop(\"Country\", axis = 1, inplace = True)\n",
    "player_avg_dataframe"
   ]
  },
  {
   "cell_type": "code",
   "execution_count": 23,
   "id": "f32e0b7d",
   "metadata": {},
   "outputs": [
    {
     "data": {
      "text/plain": [
       "<matplotlib.collections.PathCollection at 0x25179d3afa0>"
      ]
     },
     "execution_count": 23,
     "metadata": {},
     "output_type": "execute_result"
    },
    {
     "data": {
      "image/png": "[encoded data removed]",
      "text/plain": [
       "<Figure size 432x288 with 1 Axes>"
      ]
     },
     "metadata": {
      "needs_background": "light"
     },
     "output_type": "display_data"
    }
   ],
   "source": [
    "ax = plt.axes()\n",
    "ax.scatter(player_avg_dataframe.Points_avg, player_avg_dataframe.Hours_avg, color = 'blue', marker = 'o')"
   ]
  },
  {
   "cell_type": "markdown",
   "id": "310cc06a",
   "metadata": {},
   "source": [
    "***"
   ]
  },
  {
   "cell_type": "markdown",
   "id": "56248834",
   "metadata": {},
   "source": [
    "# 7. Removing Outliers\n",
    "\n",
    "The data consists of different `Outliers`, as the `Scatter Plot` shows. We need to set the limits of the data values, to eliminate massive errors and outlying data values. \n",
    "\n",
    "Copying the `Hours_avg` column into another array, and using it as an outlier identifier, would simplify the data.\n",
    "\n",
    "A `Location` list and an `Outliers` list would be created, that stores the outlier values and the location of the outlier values respectively."
   ]
  },
  {
   "cell_type": "code",
   "execution_count": 24,
   "id": "9dacb1ad",
   "metadata": {},
   "outputs": [
    {
     "data": {
      "text/plain": [
       "252"
      ]
     },
     "execution_count": 24,
     "metadata": {},
     "output_type": "execute_result"
    }
   ],
   "source": [
    "player_avg_dataframe.shape[0]"
   ]
  },
  {
   "cell_type": "code",
   "execution_count": 25,
   "id": "dd8082e9",
   "metadata": {},
   "outputs": [
    {
     "data": {
      "text/plain": [
       "1      3955.532690\n",
       "2      3369.698049\n",
       "3      3978.077490\n",
       "4      4199.146046\n",
       "5      3953.754330\n",
       "          ...     \n",
       "248    2457.440000\n",
       "249    2952.142857\n",
       "250    1297.800000\n",
       "251     969.950000\n",
       "252      13.900000\n",
       "Name: Hours_avg, Length: 252, dtype: float64"
      ]
     },
     "execution_count": 25,
     "metadata": {},
     "output_type": "execute_result"
    }
   ],
   "source": [
    "X = player_avg_dataframe.iloc[:,-1]\n",
    "X"
   ]
  },
  {
   "cell_type": "code",
   "execution_count": 26,
   "id": "64925696",
   "metadata": {},
   "outputs": [
    {
     "data": {
      "text/plain": [
       "(252,)"
      ]
     },
     "execution_count": 26,
     "metadata": {},
     "output_type": "execute_result"
    }
   ],
   "source": [
    "X.shape"
   ]
  },
  {
   "cell_type": "code",
   "execution_count": 27,
   "id": "4b00f832",
   "metadata": {},
   "outputs": [
    {
     "data": {
      "text/plain": [
       "[115, 140, 167, 236, 242]"
      ]
     },
     "execution_count": 27,
     "metadata": {},
     "output_type": "execute_result"
    }
   ],
   "source": [
    "outliers = []\n",
    "location = []\n",
    "for i in range (1, player_avg_dataframe.shape[0]):\n",
    "    if X[i] > 7000:\n",
    "        outliers.append(X[i])\n",
    "        location.append(i)\n",
    "\n",
    "outliers\n",
    "location"
   ]
  },
  {
   "cell_type": "code",
   "execution_count": 28,
   "id": "720f11df",
   "metadata": {},
   "outputs": [],
   "source": [
    "flag = 0\n",
    "for i in range (1, location[len(location)-1] + 1):\n",
    "    if i == location[flag]:\n",
    "        player_avg_dataframe.drop(index = i, inplace = True)\n",
    "        if flag < len(location):\n",
    "            flag = flag + 1"
   ]
  },
  {
   "cell_type": "markdown",
   "id": "bc3aa7b3",
   "metadata": {},
   "source": [
    "**The Average dataframe is now created, with no outliers in terms of hours and no unnecessary columns. This dataframe would be used to perform the ahead steps.**\n",
    "\n",
    "***"
   ]
  },
  {
   "cell_type": "markdown",
   "id": "6cdd20db",
   "metadata": {},
   "source": [
    "# 9. Visualizing the Data"
   ]
  },
  {
   "cell_type": "code",
   "execution_count": 29,
   "id": "4acf1899",
   "metadata": {
    "scrolled": false
   },
   "outputs": [
    {
     "data": {
      "text/plain": [
       "[Text(0.5, 0, 'Average Hours'),\n",
       " Text(0, 0.5, 'No. of Countries'),\n",
       " Text(0.5, 1.0, 'Frequency of Average hours per country')]"
      ]
     },
     "execution_count": 29,
     "metadata": {},
     "output_type": "execute_result"
    },
    {
     "data": {
      "image/png": "[encoded data removed]",
      "text/plain": [
       "<Figure size 432x288 with 1 Axes>"
      ]
     },
     "metadata": {
      "needs_background": "light"
     },
     "output_type": "display_data"
    }
   ],
   "source": [
    "ax = plt.axes()\n",
    "ax.hist(player_avg_dataframe.Hours_avg, bins = 35)\n",
    "ax.set(xlabel = 'Average Hours',\n",
    "       ylabel = 'No. of Countries',\n",
    "       title = 'Frequency of Average hours per country')"
   ]
  },
  {
   "cell_type": "code",
   "execution_count": 30,
   "id": "663bdbf1",
   "metadata": {
    "scrolled": true
   },
   "outputs": [
    {
     "data": {
      "text/plain": [
       "(array([ 1.,  2.,  7., 51., 87., 62., 25.,  7.,  4.,  1.]),\n",
       " array([  13.9,  699.1, 1384.3, 2069.5, 2754.7, 3439.9, 4125.1, 4810.3,\n",
       "        5495.5, 6180.7, 6865.9]),\n",
       " <BarContainer object of 10 artists>)"
      ]
     },
     "execution_count": 30,
     "metadata": {},
     "output_type": "execute_result"
    },
    {
     "data": {
      "image/png": "[encoded data removed]",
      "text/plain": [
       "<Figure size 432x288 with 1 Axes>"
      ]
     },
     "metadata": {
      "needs_background": "light"
     },
     "output_type": "display_data"
    }
   ],
   "source": [
    "plt.hist(player_avg_dataframe.Hours_avg)"
   ]
  },
  {
   "cell_type": "markdown",
   "id": "140152e0",
   "metadata": {},
   "source": [
    "***"
   ]
  },
  {
   "cell_type": "markdown",
   "id": "cbc6f69b",
   "metadata": {},
   "source": [
    "# 10. Normally Distributing the Data\n",
    "\n",
    "**The histogram shows how the data is not normalized, and this would create serious problems while working with regression models. Implementation of the following transformations might normalize the data-**\n",
    "\n",
    "1. `Square Root Transformation`\n",
    "2. `Log Transformation`\n",
    "3. `Boxcox Method`\n",
    "\n",
    "The best method out of these three would be used to transform and normalize the data, and to check the same, we would include `Normal Test`.\n",
    "\n",
    "The `p-value` should be `>0.05`, which shows the data is normalized. Even a number close to this value would be good for the data."
   ]
  },
  {
   "cell_type": "code",
   "execution_count": 31,
   "id": "52a12ca7",
   "metadata": {},
   "outputs": [],
   "source": [
    "from scipy.stats.mstats import normaltest"
   ]
  },
  {
   "cell_type": "code",
   "execution_count": 32,
   "id": "32ac90af",
   "metadata": {},
   "outputs": [
    {
     "data": {
      "text/plain": [
       "NormaltestResult(statistic=21.20164036290171, pvalue=2.4895582460671533e-05)"
      ]
     },
     "execution_count": 32,
     "metadata": {},
     "output_type": "execute_result"
    }
   ],
   "source": [
    "normaltest(player_avg_dataframe.Hours_avg.values)"
   ]
  },
  {
   "cell_type": "markdown",
   "id": "0c45ed62",
   "metadata": {},
   "source": [
    "Currently, the `p-value` is `significantly smaller` then it should be. So, the previously discussed methods of normalization would be used.\n",
    "\n",
    "***\n",
    "\n",
    "## 1. Log Transformation"
   ]
  },
  {
   "cell_type": "code",
   "execution_count": 33,
   "id": "574fc778",
   "metadata": {},
   "outputs": [],
   "source": [
    "log_hours_avg = np.log(player_avg_dataframe.Hours_avg)"
   ]
  },
  {
   "cell_type": "code",
   "execution_count": 34,
   "id": "eb53f474",
   "metadata": {},
   "outputs": [
    {
     "data": {
      "text/plain": [
       "<AxesSubplot:>"
      ]
     },
     "execution_count": 34,
     "metadata": {},
     "output_type": "execute_result"
    },
    {
     "data": {
      "image/png": "[encoded data removed]",
      "text/plain": [
       "<Figure size 432x288 with 1 Axes>"
      ]
     },
     "metadata": {
      "needs_background": "light"
     },
     "output_type": "display_data"
    }
   ],
   "source": [
    "log_hours_avg.hist(color = 'red')"
   ]
  },
  {
   "cell_type": "code",
   "execution_count": 35,
   "id": "d41cf787",
   "metadata": {},
   "outputs": [
    {
     "data": {
      "text/plain": [
       "NormaltestResult(statistic=409.94465555419526, pvalue=9.586257786622163e-90)"
      ]
     },
     "execution_count": 35,
     "metadata": {},
     "output_type": "execute_result"
    }
   ],
   "source": [
    "normaltest(log_hours_avg)"
   ]
  },
  {
   "cell_type": "markdown",
   "id": "9e93ecb5",
   "metadata": {},
   "source": [
    "This is even `worse` than the original dataframe, and `significantly destroys the data`. Log transformation is definitely not the way to go.\n",
    "\n",
    "***\n",
    "\n",
    "## 2. Square Root Transformation"
   ]
  },
  {
   "cell_type": "code",
   "execution_count": 36,
   "id": "4c280554",
   "metadata": {},
   "outputs": [],
   "source": [
    "sqrt_hours_avg = np.sqrt(player_avg_dataframe.Hours_avg)"
   ]
  },
  {
   "cell_type": "code",
   "execution_count": 37,
   "id": "7b0ad02b",
   "metadata": {},
   "outputs": [
    {
     "data": {
      "text/plain": [
       "<AxesSubplot:>"
      ]
     },
     "execution_count": 37,
     "metadata": {},
     "output_type": "execute_result"
    },
    {
     "data": {
      "image/png": "[encoded data removed]",
      "text/plain": [
       "<Figure size 432x288 with 1 Axes>"
      ]
     },
     "metadata": {
      "needs_background": "light"
     },
     "output_type": "display_data"
    }
   ],
   "source": [
    "sqrt_hours_avg.hist(color = 'green')"
   ]
  },
  {
   "cell_type": "code",
   "execution_count": 38,
   "id": "92ea6a84",
   "metadata": {},
   "outputs": [
    {
     "data": {
      "text/plain": [
       "NormaltestResult(statistic=90.93577910552902, pvalue=1.7928603531391268e-20)"
      ]
     },
     "execution_count": 38,
     "metadata": {},
     "output_type": "execute_result"
    }
   ],
   "source": [
    "normaltest(sqrt_hours_avg)"
   ]
  },
  {
   "cell_type": "markdown",
   "id": "dd553d75",
   "metadata": {},
   "source": [
    "Still `worse` than the original dataset, but better than the Log Transformation method. Square Root transformation doesn't help in this process.\n",
    "\n",
    "***\n",
    "\n",
    "## 3. Boxcox Method"
   ]
  },
  {
   "cell_type": "code",
   "execution_count": 39,
   "id": "73cafb3f",
   "metadata": {},
   "outputs": [],
   "source": [
    "from scipy.stats import boxcox"
   ]
  },
  {
   "cell_type": "code",
   "execution_count": 40,
   "id": "bcd24c89",
   "metadata": {},
   "outputs": [],
   "source": [
    "bc_result = boxcox(player_avg_dataframe.Hours_avg)"
   ]
  },
  {
   "cell_type": "code",
   "execution_count": 41,
   "id": "59ba2332",
   "metadata": {},
   "outputs": [],
   "source": [
    "boxcox_hours_avg = bc_result[0]\n",
    "lam = bc_result[1]"
   ]
  },
  {
   "cell_type": "code",
   "execution_count": 42,
   "id": "04e5eb98",
   "metadata": {},
   "outputs": [
    {
     "data": {
      "text/plain": [
       "(array([ 1.,  1.,  4., 24., 86., 75., 42.,  8.,  5.,  1.]),\n",
       " array([  10.79074143,  328.91684112,  647.04294081,  965.1690405 ,\n",
       "        1283.29514019, 1601.42123988, 1919.54733958, 2237.67343927,\n",
       "        2555.79953896, 2873.92563865, 3192.05173834]),\n",
       " <BarContainer object of 10 artists>)"
      ]
     },
     "execution_count": 42,
     "metadata": {},
     "output_type": "execute_result"
    },
    {
     "data": {
      "image/png": "[encoded data removed]",
      "text/plain": [
       "<Figure size 432x288 with 1 Axes>"
      ]
     },
     "metadata": {
      "needs_background": "light"
     },
     "output_type": "display_data"
    }
   ],
   "source": [
    "plt.hist(boxcox_hours_avg, color = 'blue')"
   ]
  },
  {
   "cell_type": "code",
   "execution_count": 43,
   "id": "cf710e15",
   "metadata": {
    "scrolled": true
   },
   "outputs": [
    {
     "data": {
      "text/plain": [
       "NormaltestResult(statistic=18.311123566742562, pvalue=0.00010563067104395085)"
      ]
     },
     "execution_count": 43,
     "metadata": {},
     "output_type": "execute_result"
    }
   ],
   "source": [
    "normaltest(boxcox_hours_avg)"
   ]
  },
  {
   "cell_type": "markdown",
   "id": "08f008de",
   "metadata": {},
   "source": [
    "The `p-value is closer to 0.05` this time, which shows the data is quite normalized. `Boxcox method` turns out to be the best method out of all 3 methods."
   ]
  },
  {
   "cell_type": "code",
   "execution_count": 44,
   "id": "db088c3b",
   "metadata": {},
   "outputs": [
    {
     "data": {
      "text/plain": [
       "<matplotlib.collections.PathCollection at 0x2517be86f10>"
      ]
     },
     "execution_count": 44,
     "metadata": {},
     "output_type": "execute_result"
    },
    {
     "data": {
      "image/png": "[encoded data removed]",
      "text/plain": [
       "<Figure size 432x288 with 1 Axes>"
      ]
     },
     "metadata": {
      "needs_background": "light"
     },
     "output_type": "display_data"
    }
   ],
   "source": [
    "ax = plt.axes()\n",
    "ax.scatter(boxcox_hours_avg, player_avg_dataframe.Points_avg, color = 'blue', marker = 'o')"
   ]
  },
  {
   "cell_type": "markdown",
   "id": "0c3c1122",
   "metadata": {},
   "source": [
    "***"
   ]
  },
  {
   "cell_type": "markdown",
   "id": "3266991d",
   "metadata": {},
   "source": [
    "# 11. Regression Techniques\n",
    "\n",
    "**The scatter plot shows the data being reasonable, and ready to work with. It has less to no outliers, and the data seems to be linearly increasing. The regression methods can now be implemented.** \n",
    "\n",
    "The comparison would be between the `No. of average hours` played, and the `No. of average points` gained. This will be helpful to predict whether the no. of hours increasing leads to an overall increase in the no. of points a player earns.\n",
    "\n",
    "The following three Regression methods would be applied- \n",
    "\n",
    "1. `Linear Regression`\n",
    "2. `Ridge Regression`\n",
    "3. `LASSO Regression`\n",
    "\n",
    "***\n",
    "\n",
    "## 1. Linear Regression"
   ]
  },
  {
   "cell_type": "code",
   "execution_count": 45,
   "id": "5d1dce7e",
   "metadata": {},
   "outputs": [],
   "source": [
    "from sklearn.linear_model import LinearRegression, Ridge, Lasso"
   ]
  },
  {
   "cell_type": "markdown",
   "id": "0ecee671",
   "metadata": {},
   "source": [
    "A Point per Hour model would be created, that uses linear regression."
   ]
  },
  {
   "cell_type": "code",
   "execution_count": 46,
   "id": "cff83c0c",
   "metadata": {},
   "outputs": [
    {
     "name": "stdout",
     "output_type": "stream",
     "text": [
      "LinearRegression(fit_intercept=False)\n",
      "Weight coefficients:  [0.36847944]\n",
      "y-axis intercept:  0.0\n"
     ]
    }
   ],
   "source": [
    "point_per_hour_model = LinearRegression(fit_intercept=False)\n",
    "point_per_hour_model.fit([[a] for a in boxcox_hours_avg], player_avg_dataframe[\"Points_avg\"])\n",
    "print(point_per_hour_model)\n",
    "print('Weight coefficients: ', point_per_hour_model.coef_)\n",
    "print('y-axis intercept: ', point_per_hour_model.intercept_) "
   ]
  },
  {
   "cell_type": "code",
   "execution_count": 47,
   "id": "c6c02b2c",
   "metadata": {},
   "outputs": [
    {
     "name": "stdout",
     "output_type": "stream",
     "text": [
      "R^2 for point_per_hour_model: 0.42770507302183935\n"
     ]
    }
   ],
   "source": [
    "r2_achievement = point_per_hour_model.score([[a] for a in boxcox_hours_avg], player_avg_dataframe[\"Points_avg\"])\n",
    "print(\"R^2 for point_per_hour_model: {}\".format(r2_achievement))"
   ]
  },
  {
   "cell_type": "code",
   "execution_count": 48,
   "id": "74d21a7d",
   "metadata": {},
   "outputs": [
    {
     "name": "stdout",
     "output_type": "stream",
     "text": [
      "10.790741429173076 3192.051738339011\n"
     ]
    }
   ],
   "source": [
    "x_min = boxcox_hours_avg.min()\n",
    "x_max = boxcox_hours_avg.max()\n",
    "y_min = point_per_hour_model.predict([[x_min]])\n",
    "y_max = point_per_hour_model.predict([[x_max]])\n",
    "print(x_min, x_max)"
   ]
  },
  {
   "cell_type": "code",
   "execution_count": 49,
   "id": "f8f21a9f",
   "metadata": {},
   "outputs": [
    {
     "data": {
      "text/plain": [
       "[<matplotlib.lines.Line2D at 0x2517c516be0>]"
      ]
     },
     "execution_count": 49,
     "metadata": {},
     "output_type": "execute_result"
    },
    {
     "data": {
      "image/png": "[encoded data removed]",
      "text/plain": [
       "<Figure size 432x288 with 1 Axes>"
      ]
     },
     "metadata": {
      "needs_background": "light"
     },
     "output_type": "display_data"
    }
   ],
   "source": [
    "plt.scatter([[a] for a in boxcox_hours_avg], player_avg_dataframe[\"Points_avg\"], c='blue')\n",
    "plt.plot([x_min, x_max], [y_min, y_max], c='red')"
   ]
  },
  {
   "cell_type": "markdown",
   "id": "435b3c2c",
   "metadata": {},
   "source": [
    "***"
   ]
  },
  {
   "cell_type": "markdown",
   "id": "1a43fec9",
   "metadata": {},
   "source": [
    "## 2. Ridge Regression"
   ]
  },
  {
   "cell_type": "code",
   "execution_count": 50,
   "id": "814a3842",
   "metadata": {},
   "outputs": [
    {
     "name": "stdout",
     "output_type": "stream",
     "text": [
      "Ridge(fit_intercept=False)\n",
      "Weight coefficients:  [0.36847944]\n",
      "y-axis intercept:  0.0\n"
     ]
    }
   ],
   "source": [
    "point_per_hour_model_r = Ridge(fit_intercept=False)\n",
    "point_per_hour_model_r.fit([[a] for a in boxcox_hours_avg], player_avg_dataframe[\"Points_avg\"])\n",
    "print(point_per_hour_model_r)\n",
    "print('Weight coefficients: ', point_per_hour_model_r.coef_)\n",
    "print('y-axis intercept: ', point_per_hour_model_r.intercept_) "
   ]
  },
  {
   "cell_type": "code",
   "execution_count": 51,
   "id": "258b4a3f",
   "metadata": {},
   "outputs": [
    {
     "name": "stdout",
     "output_type": "stream",
     "text": [
      "10.790741429173076 3192.051738339011\n"
     ]
    }
   ],
   "source": [
    "x_min_r = boxcox_hours_avg.min()\n",
    "x_max_r = boxcox_hours_avg.max()\n",
    "y_min_r = point_per_hour_model_r.predict([[x_min_r]])\n",
    "y_max_r = point_per_hour_model_r.predict([[x_max_r]])\n",
    "print(x_min_r, x_max_r)"
   ]
  },
  {
   "cell_type": "code",
   "execution_count": 52,
   "id": "4dd694ab",
   "metadata": {},
   "outputs": [
    {
     "data": {
      "text/plain": [
       "[<matplotlib.lines.Line2D at 0x2517c5917c0>]"
      ]
     },
     "execution_count": 52,
     "metadata": {},
     "output_type": "execute_result"
    },
    {
     "data": {
      "image/png": "[encoded data removed]",
      "text/plain": [
       "<Figure size 432x288 with 1 Axes>"
      ]
     },
     "metadata": {
      "needs_background": "light"
     },
     "output_type": "display_data"
    }
   ],
   "source": [
    "plt.scatter([[a] for a in boxcox_hours_avg], player_avg_dataframe[\"Points_avg\"], c='green')\n",
    "plt.plot([x_min_r, x_max_r], [y_min_r, y_max_r], c='red')"
   ]
  },
  {
   "cell_type": "markdown",
   "id": "7177675f",
   "metadata": {},
   "source": [
    "***"
   ]
  },
  {
   "cell_type": "markdown",
   "id": "97625815",
   "metadata": {},
   "source": [
    "## 3. LASSO Regression"
   ]
  },
  {
   "cell_type": "code",
   "execution_count": 53,
   "id": "0adadd49",
   "metadata": {},
   "outputs": [
    {
     "name": "stdout",
     "output_type": "stream",
     "text": [
      "Lasso(fit_intercept=False)\n",
      "Weight coefficients:  [0.36847909]\n",
      "y-axis intercept:  0.0\n"
     ]
    }
   ],
   "source": [
    "point_per_hour_model_l = Lasso(fit_intercept=False)\n",
    "point_per_hour_model_l.fit([[a] for a in boxcox_hours_avg], player_avg_dataframe[\"Points_avg\"])\n",
    "print(point_per_hour_model_l)\n",
    "print('Weight coefficients: ', point_per_hour_model_l.coef_)\n",
    "print('y-axis intercept: ', point_per_hour_model_l.intercept_) "
   ]
  },
  {
   "cell_type": "code",
   "execution_count": 54,
   "id": "4ef62b3a",
   "metadata": {},
   "outputs": [
    {
     "name": "stdout",
     "output_type": "stream",
     "text": [
      "10.790741429173076 3192.051738339011\n"
     ]
    }
   ],
   "source": [
    "x_min_l = boxcox_hours_avg.min()\n",
    "x_max_l = boxcox_hours_avg.max()\n",
    "y_min_l = point_per_hour_model_l.predict([[x_min_l]])\n",
    "y_max_l = point_per_hour_model_l.predict([[x_max_l]])\n",
    "print(x_min_l, x_max_l)"
   ]
  },
  {
   "cell_type": "code",
   "execution_count": 55,
   "id": "6d0d8dde",
   "metadata": {},
   "outputs": [
    {
     "data": {
      "text/plain": [
       "[<matplotlib.lines.Line2D at 0x2517c607430>]"
      ]
     },
     "execution_count": 55,
     "metadata": {},
     "output_type": "execute_result"
    },
    {
     "data": {
      "image/png": "[encoded data removed]",
      "text/plain": [
       "<Figure size 432x288 with 1 Axes>"
      ]
     },
     "metadata": {
      "needs_background": "light"
     },
     "output_type": "display_data"
    }
   ],
   "source": [
    "plt.scatter([[a] for a in boxcox_hours_avg], player_avg_dataframe[\"Points_avg\"], c='black')\n",
    "plt.plot([x_min_l, x_max_l], [y_min_l, y_max_l], c='red')"
   ]
  },
  {
   "cell_type": "markdown",
   "id": "e6a3d66a",
   "metadata": {},
   "source": [
    "***"
   ]
  },
  {
   "cell_type": "markdown",
   "id": "8fe7b8d4",
   "metadata": {},
   "source": [
    "**All three Regression techniques give the same values and plots.**\n",
    "\n",
    "**Some methods that can improve the model are-** \n",
    "\n",
    "1. **Taking a better comparison of data columns**\n",
    "2. **Using a different approach to reduce the data values other than the average calculation.**\n",
    "\n",
    "**This would overall increase the model's performance, and create a better regression approach.**\n",
    "\n",
    "***\n",
    "\n",
    "# 12. Regression with Original Dataset\n",
    "\n",
    "### If we take the original country dataset for Linear, Ridge and LASSO,  this is what we get- \n",
    "\n",
    "***\n",
    "\n",
    "## 1. Linear Regression"
   ]
  },
  {
   "cell_type": "code",
   "execution_count": 56,
   "id": "59df3bbc",
   "metadata": {},
   "outputs": [
    {
     "name": "stdout",
     "output_type": "stream",
     "text": [
      "LinearRegression(fit_intercept=False)\n",
      "Weight coefficients:  [0.22099987]\n",
      "y-axis intercept:  0.0\n"
     ]
    }
   ],
   "source": [
    "point_per_hour_model = LinearRegression(fit_intercept=False)\n",
    "point_per_hour_model.fit([[a] for a in country_dataframe[\"Hours\"]], country_dataframe[\"Points\"])\n",
    "print(point_per_hour_model)\n",
    "print('Weight coefficients: ', point_per_hour_model.coef_)\n",
    "print('y-axis intercept: ', point_per_hour_model.intercept_) "
   ]
  },
  {
   "cell_type": "code",
   "execution_count": 57,
   "id": "20f44675",
   "metadata": {},
   "outputs": [
    {
     "name": "stdout",
     "output_type": "stream",
     "text": [
      "R^2 for point_per_hour_model: 0.9964403559644708\n"
     ]
    }
   ],
   "source": [
    "r2_achievement = point_per_hour_model.score([[a] for a in country_dataframe[\"Hours\"]], country_dataframe[\"Points\"])\n",
    "print(\"R^2 for point_per_hour_model: {}\".format(r2_achievement))"
   ]
  },
  {
   "cell_type": "code",
   "execution_count": 58,
   "id": "19a245cf",
   "metadata": {},
   "outputs": [
    {
     "name": "stdout",
     "output_type": "stream",
     "text": [
      "13.9 236137390.5\n"
     ]
    }
   ],
   "source": [
    "x_min = country_dataframe[\"Hours\"].min()\n",
    "x_max = country_dataframe[\"Hours\"].max()\n",
    "y_min = point_per_hour_model.predict([[x_min]])\n",
    "y_max = point_per_hour_model.predict([[x_max]])\n",
    "print(x_min, x_max)"
   ]
  },
  {
   "cell_type": "code",
   "execution_count": 59,
   "id": "b24199ff",
   "metadata": {},
   "outputs": [
    {
     "data": {
      "text/plain": [
       "[<matplotlib.lines.Line2D at 0x2517c67f3d0>]"
      ]
     },
     "execution_count": 59,
     "metadata": {},
     "output_type": "execute_result"
    },
    {
     "data": {
      "image/png": "[encoded data removed]",
      "text/plain": [
       "<Figure size 432x288 with 1 Axes>"
      ]
     },
     "metadata": {
      "needs_background": "light"
     },
     "output_type": "display_data"
    }
   ],
   "source": [
    "plt.scatter([[a] for a in country_dataframe[\"Hours\"]], country_dataframe[\"Points\"], c='blue')\n",
    "plt.plot([x_min, x_max], [y_min, y_max], c='red')"
   ]
  },
  {
   "cell_type": "markdown",
   "id": "91e80851",
   "metadata": {},
   "source": [
    "***"
   ]
  },
  {
   "cell_type": "markdown",
   "id": "ebdaff2d",
   "metadata": {},
   "source": [
    "## 2. Ridge Regression"
   ]
  },
  {
   "cell_type": "code",
   "execution_count": 60,
   "id": "dcbb74e6",
   "metadata": {},
   "outputs": [
    {
     "name": "stdout",
     "output_type": "stream",
     "text": [
      "Ridge(fit_intercept=False)\n",
      "Weight coefficients:  [0.22099987]\n",
      "y-axis intercept:  0.0\n"
     ]
    }
   ],
   "source": [
    "point_per_hour_model_r = Ridge(fit_intercept=False)\n",
    "point_per_hour_model_r.fit([[a] for a in country_dataframe[\"Hours\"]], country_dataframe[\"Points\"])\n",
    "print(point_per_hour_model_r)\n",
    "print('Weight coefficients: ', point_per_hour_model_r.coef_)\n",
    "print('y-axis intercept: ', point_per_hour_model_r.intercept_) "
   ]
  },
  {
   "cell_type": "code",
   "execution_count": 61,
   "id": "7a6000ad",
   "metadata": {},
   "outputs": [
    {
     "name": "stdout",
     "output_type": "stream",
     "text": [
      "R^2 for point_per_hour_model: 0.9964403559644708\n"
     ]
    }
   ],
   "source": [
    "r2_achievement = point_per_hour_model_r.score([[a] for a in country_dataframe[\"Hours\"]], country_dataframe[\"Points\"])\n",
    "print(\"R^2 for point_per_hour_model: {}\".format(r2_achievement))"
   ]
  },
  {
   "cell_type": "code",
   "execution_count": 62,
   "id": "3234eac5",
   "metadata": {},
   "outputs": [
    {
     "name": "stdout",
     "output_type": "stream",
     "text": [
      "13.9 236137390.5\n"
     ]
    }
   ],
   "source": [
    "x_min_r = country_dataframe[\"Hours\"].min()\n",
    "x_max_r = country_dataframe[\"Hours\"].max()\n",
    "y_min_r = point_per_hour_model_r.predict([[x_min_r]])\n",
    "y_max_r = point_per_hour_model_r.predict([[x_max_r]])\n",
    "print(x_min_r, x_max_r)"
   ]
  },
  {
   "cell_type": "code",
   "execution_count": 63,
   "id": "1f30e01b",
   "metadata": {},
   "outputs": [
    {
     "data": {
      "text/plain": [
       "[<matplotlib.lines.Line2D at 0x2517c6df970>]"
      ]
     },
     "execution_count": 63,
     "metadata": {},
     "output_type": "execute_result"
    },
    {
     "data": {
      "image/png": "[encoded data removed]",
      "text/plain": [
       "<Figure size 432x288 with 1 Axes>"
      ]
     },
     "metadata": {
      "needs_background": "light"
     },
     "output_type": "display_data"
    }
   ],
   "source": [
    "plt.scatter([[a] for a in country_dataframe[\"Hours\"]], country_dataframe[\"Points\"], c='green')\n",
    "plt.plot([x_min_r, x_max_r], [y_min_r, y_max_r], c='red')"
   ]
  },
  {
   "cell_type": "markdown",
   "id": "8e86866e",
   "metadata": {},
   "source": [
    "***"
   ]
  },
  {
   "cell_type": "markdown",
   "id": "3cd64e1e",
   "metadata": {},
   "source": [
    "## 3. LASSO Regression"
   ]
  },
  {
   "cell_type": "code",
   "execution_count": 64,
   "id": "76d0015f",
   "metadata": {},
   "outputs": [
    {
     "name": "stdout",
     "output_type": "stream",
     "text": [
      "Lasso(fit_intercept=False)\n",
      "Weight coefficients:  [0.22099987]\n",
      "y-axis intercept:  0.0\n"
     ]
    }
   ],
   "source": [
    "point_per_hour_model_l = Lasso(fit_intercept=False)\n",
    "point_per_hour_model_l.fit([[a] for a in country_dataframe[\"Hours\"]], country_dataframe[\"Points\"])\n",
    "print(point_per_hour_model_l)\n",
    "print('Weight coefficients: ', point_per_hour_model_l.coef_)\n",
    "print('y-axis intercept: ', point_per_hour_model_l.intercept_) "
   ]
  },
  {
   "cell_type": "code",
   "execution_count": 65,
   "id": "05e4596e",
   "metadata": {},
   "outputs": [
    {
     "name": "stdout",
     "output_type": "stream",
     "text": [
      "R^2 for point_per_hour_model: 0.9964403559644708\n"
     ]
    }
   ],
   "source": [
    "r2_achievement = point_per_hour_model_l.score([[a] for a in country_dataframe[\"Hours\"]], country_dataframe[\"Points\"])\n",
    "print(\"R^2 for point_per_hour_model: {}\".format(r2_achievement))"
   ]
  },
  {
   "cell_type": "code",
   "execution_count": 66,
   "id": "5179a848",
   "metadata": {},
   "outputs": [
    {
     "name": "stdout",
     "output_type": "stream",
     "text": [
      "13.9 236137390.5\n"
     ]
    }
   ],
   "source": [
    "x_min_l = country_dataframe[\"Hours\"].min()\n",
    "x_max_l = country_dataframe[\"Hours\"].max()\n",
    "y_min_l = point_per_hour_model_l.predict([[x_min_l]])\n",
    "y_max_l = point_per_hour_model_l.predict([[x_max_l]])\n",
    "print(x_min_l, x_max_l)"
   ]
  },
  {
   "cell_type": "code",
   "execution_count": 67,
   "id": "9fe8e536",
   "metadata": {},
   "outputs": [
    {
     "data": {
      "text/plain": [
       "[<matplotlib.lines.Line2D at 0x2517c741fa0>]"
      ]
     },
     "execution_count": 67,
     "metadata": {},
     "output_type": "execute_result"
    },
    {
     "data": {
      "image/png": "[encoded data removed]",
      "text/plain": [
       "<Figure size 432x288 with 1 Axes>"
      ]
     },
     "metadata": {
      "needs_background": "light"
     },
     "output_type": "display_data"
    }
   ],
   "source": [
    "plt.scatter([[a] for a in country_dataframe[\"Hours\"]], country_dataframe[\"Points\"], c='black')\n",
    "plt.plot([x_min_l, x_max_l], [y_min_l, y_max_l], c='red')"
   ]
  },
  {
   "cell_type": "markdown",
   "id": "7e208e9a",
   "metadata": {},
   "source": [
    "***"
   ]
  },
  {
   "cell_type": "markdown",
   "id": "5efa81e8",
   "metadata": {},
   "source": [
    "Still the same in all three regressions, but a better visualization of the linear data. This dataset seems to be `highly linear` in nature, and could be used to predict any value easily. The `r2 score of 0.99>` shows how less the errors are in the overall dataset, which were not that visible after taking the average of the dataframe values.\n",
    "\n",
    "Sometimes, a normal approach to the model is better than the others,  and sometimes it isn't. Totally depends on the data itself.\n",
    "\n",
    "***"
   ]
  }
 ],
 "metadata": {
  "kernelspec": {
   "display_name": "Python 3 (ipykernel)",
   "language": "python",
   "name": "python3"
  },
  "language_info": {
   "codemirror_mode": {
    "name": "ipython",
    "version": 3
   },
   "file_extension": ".py",
   "mimetype": "text/x-python",
   "name": "python",
   "nbconvert_exporter": "python",
   "pygments_lexer": "ipython3",
   "version": "3.9.12"
  }
 },
 "nbformat": 4,
 "nbformat_minor": 5
}
